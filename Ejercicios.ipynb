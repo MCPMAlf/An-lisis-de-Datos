{
  "cells": [
    {
      "cell_type": "markdown",
      "metadata": {
        "id": "view-in-github",
        "colab_type": "text"
      },
      "source": [
        "<a href=\"https://colab.research.google.com/github/MCPMAlf/An-lisis-de-Datos/blob/main/Ejercicios.ipynb\" target=\"_parent\"><img src=\"https://colab.research.google.com/assets/colab-badge.svg\" alt=\"Open In Colab\"/></a>"
      ]
    },
    {
      "cell_type": "code",
      "execution_count": null,
      "id": "843d62e3",
      "metadata": {
        "id": "843d62e3"
      },
      "outputs": [],
      "source": [
        "#Importa paquetes necesarios\n",
        "import numpy as np\n",
        "import pandas as pd\n",
        "import matplotlib.pyplot as plt\n"
      ]
    },
    {
      "cell_type": "code",
      "source": [
        "from google.colab import drive\n",
        "drive.mount('/content/drive')"
      ],
      "metadata": {
        "colab": {
          "base_uri": "https://localhost:8080/"
        },
        "id": "dHOtbd7EWCDb",
        "outputId": "877de4ec-0452-40ac-d681-670175a36aef"
      },
      "id": "dHOtbd7EWCDb",
      "execution_count": null,
      "outputs": [
        {
          "output_type": "stream",
          "name": "stdout",
          "text": [
            "Mounted at /content/drive\n"
          ]
        }
      ]
    },
    {
      "cell_type": "code",
      "execution_count": null,
      "id": "8a1caf63",
      "metadata": {
        "id": "8a1caf63"
      },
      "outputs": [],
      "source": [
        "#Importamos Base de datos desde Drive\n",
        "anio2015 = pd.read_csv(\"/content/drive/MyDrive/Colab Notebooks/AnalisisDeDatos/Proyectos/Proyecto1/2015.csv\")\n",
        "anio2016 = pd.read_csv(\"/content/drive/MyDrive/Colab Notebooks/AnalisisDeDatos/Proyectos/Proyecto1/2016.csv\")\n",
        "anio2016_programa = pd.read_csv(\"/content/drive/MyDrive/Colab Notebooks/AnalisisDeDatos/Proyectos/Proyecto1/2016 programa.csv\")\n",
        "anio2017 = pd.read_csv(\"/content/drive/MyDrive/Colab Notebooks/AnalisisDeDatos/Proyectos/Proyecto1/2017.csv\")\n",
        "anio2018 = pd.read_csv(\"/content/drive/MyDrive/Colab Notebooks/AnalisisDeDatos/Proyectos/Proyecto1/2018.csv\")\n",
        "anio2019 = pd.read_csv(\"/content/drive/MyDrive/Colab Notebooks/AnalisisDeDatos/Proyectos/Proyecto1/2019.csv\")\n",
        "anio2020 = pd.read_csv(\"/content/drive/MyDrive/Colab Notebooks/AnalisisDeDatos/Proyectos/Proyecto1/2020.csv\")\n",
        "\n",
        "anio2015['año'] = pd.DatetimeIndex(anio2015['fecha']).year\n",
        "anio2016['año'] = pd.DatetimeIndex(anio2016['fecha']).year\n",
        "anio2016_programa['año'] = pd.DatetimeIndex(anio2016_programa['fecha']).year\n",
        "anio2017['año'] = pd.DatetimeIndex(anio2017['fecha']).year\n",
        "anio2018['mes'] = pd.DatetimeIndex(anio2018['fecha']).month\n",
        "anio2018['año'] = pd.DatetimeIndex(anio2018['fecha']).year\n",
        "anio2019['año'] = pd.DatetimeIndex(anio2019['fecha']).year\n",
        "anio2020['año'] = pd.DatetimeIndex(anio2020['fecha']).year\n",
        "\n",
        "anios = [anio2015, anio2016, anio2016_programa, anio2017, anio2018, anio2019, anio2020]\n",
        "numero_anios = len(anios)\n",
        "\n",
        "#creacion de Directorio del documento de Excel\n",
        "#DataFrame_Ex = pd.read_excel(File_Name, sheet_name = None)\n"
      ]
    },
    {
      "cell_type": "code",
      "source": [
        "print(anio2015.columns)\n",
        "print(anio2016.columns)\n",
        "print(anio2016_programa.columns)\n",
        "print(anio2017.columns)\n",
        "print(anio2018.columns)\n",
        "\n",
        "anio2018.columns = ['fecha', 'latitud', 'longitud', 'ubicación', 'fenologia', 'Revisada',\n",
        "       'no_diaphorinasxtrampa', 'campo', 'superficie_ha', 'ano', 'semana', 'mes', 'año']\n",
        "\n",
        "print(anio2019.columns)\n",
        "print(anio2020.columns)\n"
      ],
      "metadata": {
        "colab": {
          "base_uri": "https://localhost:8080/"
        },
        "id": "fDuTNe3fmLvF",
        "outputId": "31ba696a-ce95-4ccb-9445-3a994969730e"
      },
      "id": "fDuTNe3fmLvF",
      "execution_count": null,
      "outputs": [
        {
          "output_type": "stream",
          "name": "stdout",
          "text": [
            "Index(['fecha', 'latitud', 'longitud', 'ubicación', 'municipio', 'comunidad',\n",
            "       'productor', 'cultivo', 'fenologia', 'superficie_ha',\n",
            "       'no_trampas_instaladas', 'no_trampas_revisadas',\n",
            "       'no_diaphorinasxtrampa', 'mes', 'semana', 'año'],\n",
            "      dtype='object')\n",
            "Index(['fecha', 'latitud', 'longitud', 'ubicación', 'municipio', 'comunidad',\n",
            "       'productor', 'cultivo', 'fenologia', 'superficie_ha',\n",
            "       'no_trampas_instaladas', 'no_trampas_revisadas',\n",
            "       'no_diaphorinasxtrampa', 'mes', 'semana', 'año'],\n",
            "      dtype='object')\n",
            "Index(['fecha', 'latitud', 'longitud', 'ubicación', 'municipio', 'comunidad',\n",
            "       'productor', 'cultivo', 'fenologia', 'superficie_ha',\n",
            "       'no_trampas_instaladas', 'no_trampas_revisadas',\n",
            "       'no_diaphorinasxtrampa', 'mes', 'semana', 'año'],\n",
            "      dtype='object')\n",
            "Index(['fecha', 'latitud', 'longitud', 'ubicación', 'municipio', 'comunidad',\n",
            "       'productor', 'cultivo', 'fenologia', 'superficie_ha',\n",
            "       'no_trampas_instaladas', 'no_trampas_revisadas',\n",
            "       'no_diaphorinasxtrampa', 'mes', 'semana', 'año'],\n",
            "      dtype='object')\n",
            "Index(['fecha', 'latitud', 'longitud', 'ubicación', 'fenologia', 'Revisada',\n",
            "       'captura', 'campo', 'superficie_ha', 'ano', 'semana', 'mes', 'año'],\n",
            "      dtype='object')\n",
            "Index(['fecha', 'ubicación', 'latitud', 'longitud', 'productor', 'municipio',\n",
            "       'localidad', 'cultivo', 'superficie_ha', 'no_trampas_instaladas',\n",
            "       'no_trampas_revisadas', 'no_diaphorinasxtrampa', 'Fenologia_Brote_1',\n",
            "       'Adultos_Brote_1', 'Ninfas_Brote_1', 'Fenologia_Brote_2',\n",
            "       'Adultos_Brote_2', 'Ninfas_Brote_2', 'Fenologia_Brote_3',\n",
            "       'Adultos_Brote_3', 'Ninfas_Brote_3', 'Fenologia_Brote_4',\n",
            "       'Adultos_Brote_4', 'Ninfas_Brote_4', 'mes', 'semana', 'año'],\n",
            "      dtype='object')\n",
            "Index(['fecha', 'ubicación', 'latitud', 'longitud', 'Productor', 'municipio',\n",
            "       'Localidad', 'Cultivo', 'Variedad', 'noProductores', 'superficie_ha',\n",
            "       'no_trampas_instaladas', 'no_trampas_revisadas',\n",
            "       'no_diaphorinasxtrampa', 'Observacion', 'Incidencia_Psilido',\n",
            "       'Fenologia_Brote_1', 'Adultos_Brote_1', 'Ninfas_Brote_1',\n",
            "       'Fenologia_Brote_2', 'Adultos_Brote_2', 'Ninfas_Brote_2',\n",
            "       'Fenologia_Brote_3', 'Adultos_Brote_3', 'Ninfas_Brote_3',\n",
            "       'Fenologia_Brote_4', 'Adultos_Brote_4', 'Ninfas_Brote_4', 'mes',\n",
            "       'semana', 'Tecnico', 'año'],\n",
            "      dtype='object')\n"
          ]
        }
      ]
    },
    {
      "cell_type": "markdown",
      "id": "76134ac5",
      "metadata": {
        "id": "76134ac5"
      },
      "source": [
        "# Ejercicio 1"
      ]
    },
    {
      "cell_type": "code",
      "execution_count": null,
      "id": "25572bb3",
      "metadata": {
        "id": "25572bb3"
      },
      "outputs": [],
      "source": [
        "#Promedio le numero de diaphorinas agrupados por mes del año 2015.\n",
        "anio2015_gmean = anio2015.groupby(\"mes\")[\"no_diaphorinasxtrampa\"].mean()\n",
        "anio2015_gmean= anio2015_gmean.to_frame()\n",
        "\n",
        "#Promedio le numero de diaphorinas agrupados por mes del año 2017.\n",
        "anio2017_gmean = anio2017.groupby(\"mes\")[\"no_diaphorinasxtrampa\"].mean()\n",
        "anio2017_gmean= anio2017_gmean.to_frame()\n",
        "\n",
        "#Promedio le numero de diaphorinas agrupados por mes del año 2020.\n",
        "anio2020_gmean = anio2020.groupby(\"mes\")[\"no_diaphorinasxtrampa\"].mean()\n",
        "anio2020_gmean= anio2020_gmean.to_frame()\n",
        "\n",
        "#Variable de apoyo para impresión.\n",
        "años= [2015, 2017, 2020]\n",
        "\n",
        "#Lista con las medias por cada año.\n",
        "anios_resul=[anio2015_gmean, anio2017_gmean, anio2020_gmean]"
      ]
    },
    {
      "cell_type": "code",
      "execution_count": null,
      "id": "407f49da",
      "metadata": {
        "colab": {
          "base_uri": "https://localhost:8080/",
          "height": 905
        },
        "id": "407f49da",
        "outputId": "4097785c-b1e6-48f2-fe3f-ebb03daccd54"
      },
      "outputs": [
        {
          "output_type": "display_data",
          "data": {
            "text/plain": [
              "<Figure size 864x288 with 1 Axes>"
            ],
            "image/png": "[encoded data removed]"
          },
          "metadata": {
            "needs_background": "light"
          }
        },
        {
          "output_type": "display_data",
          "data": {
            "text/plain": [
              "<Figure size 864x288 with 1 Axes>"
            ],
            "image/png": "[encoded data removed]"
          },
          "metadata": {
            "needs_background": "light"
          }
        },
        {
          "output_type": "display_data",
          "data": {
            "text/plain": [
              "<Figure size 864x288 with 1 Axes>"
            ],
            "image/png": "[encoded data removed]"
          },
          "metadata": {
            "needs_background": "light"
          }
        }
      ],
      "source": [
        "#Gráficas por año del promedio respecto al mes.\n",
        "\n",
        "for j in range(0,3):\n",
        "    fig, ax = plt.subplots(1, 1, constrained_layout=True)\n",
        "    fig.set_size_inches(12, 4)\n",
        "    ax.plot(anios_resul[j])\n",
        "    ax.set_title((f\"{años[j]}\"), horizontalalignment=\"center\", fontsize = 15, fontweight=\"bold\" )\n",
        "    ax.set_xlabel(\"\\nMes\")\n",
        "    ax.set_ylabel(\"Promedio de Diaphoniras\")\n",
        "    ax.tick_params(axis='x', labelrotation=90)\n",
        "    ax.grid()\n",
        "\n",
        "\n",
        "plt.show()"
      ]
    },
    {
      "cell_type": "markdown",
      "id": "dab8688d",
      "metadata": {
        "id": "dab8688d"
      },
      "source": [
        "# Ejercicio 2"
      ]
    },
    {
      "cell_type": "code",
      "execution_count": null,
      "id": "c6419eb3",
      "metadata": {
        "colab": {
          "base_uri": "https://localhost:8080/",
          "height": 279
        },
        "id": "c6419eb3",
        "outputId": "3e12b5ce-4798-421c-f2c0-6e9d176614da"
      },
      "outputs": [
        {
          "output_type": "display_data",
          "data": {
            "text/plain": [
              "<Figure size 432x288 with 1 Axes>"
            ],
            "image/png": "[encoded data removed]"
          },
          "metadata": {
            "needs_background": "light"
          }
        }
      ],
      "source": [
        "#DataFrame filtrado por el municipio Padilla\n",
        "padilla = anio2020[anio2020[\"municipio\"] == 'PADILLA']\n",
        "\n",
        "#Calculo del promedio de número de diaphorinas en Padilla agrupado por mes\n",
        "padilla = padilla.groupby('mes')[\"no_diaphorinasxtrampa\"].mean()\n",
        "\n",
        "#Gráfica del promedio respecto al mes.\n",
        "padilla.plot()\n",
        "plt.show()"
      ]
    },
    {
      "cell_type": "markdown",
      "id": "243efa32",
      "metadata": {
        "id": "243efa32"
      },
      "source": [
        "# Ejercicio 3"
      ]
    },
    {
      "cell_type": "code",
      "execution_count": null,
      "id": "15dc3479",
      "metadata": {
        "id": "15dc3479"
      },
      "outputs": [],
      "source": [
        "#Media, varianza y suma del número de diaphorinas agrupado por ubicación y mes del año 2015\n",
        "anio2015_mean = anio2015.groupby(['ubicación',\"mes\"])[\"no_diaphorinasxtrampa\"].mean()\n",
        "anio2015_var = anio2015.groupby(['ubicación',\"mes\"])[\"no_diaphorinasxtrampa\"].var()\n",
        "anio2015_sum = anio2015.groupby(['ubicación',\"mes\"])[\"no_diaphorinasxtrampa\"].sum()\n",
        "\n",
        "#Conversión de una serie a un Dataframe\n",
        "df_anio2015 = anio2015_mean.to_frame()\n",
        "\n",
        "#Se agregan nuevas columnas al DataFrame creado en la línea anterior\n",
        "df_anio2015[\"Varianza\"] = anio2015_var\n",
        "df_anio2015[\"Suma\"] = anio2015_sum\n",
        "\n",
        "df_anio2015.columns = ['NumDiaphorinasPromedio', 'Varianza', 'Suma']\n",
        "\n",
        "#Creación de columna con los cálculos del Índice de dispersión y el coeficiente de Green\n",
        "df_anio2015[\"Índice de dispersión\"] = df_anio2015.Varianza/df_anio2015.NumDiaphorinasPromedio\n",
        "df_anio2015[\"Coeficiente de Green\"] = ((df_anio2015.Varianza / df_anio2015.NumDiaphorinasPromedio)-1)/((df_anio2015.Suma) - 1)\n",
        "\n",
        "#Comentarios\n",
        "#df_anio2015.to_excel(\"Ejercicio3_resultados.xlsx\")\n",
        "#df_anio2015"
      ]
    },
    {
      "cell_type": "markdown",
      "id": "eb193fd3",
      "metadata": {
        "id": "eb193fd3"
      },
      "source": [
        "# Ejercicio 4"
      ]
    },
    {
      "cell_type": "code",
      "execution_count": null,
      "id": "ae25c2b7",
      "metadata": {
        "id": "ae25c2b7"
      },
      "outputs": [],
      "source": [
        "df_anios_todos = []\n",
        "for j in range (0,6):\n",
        "    anio_orden = anios[j][\"ubicación\"].to_frame()\n",
        "    anio_orden[\"mes\"] = anios[j][\"mes\"]\n",
        "    anio_orden[\"año\"] = anios[j][\"año\"]\n",
        "    anio_orden[\"no_diaphorinasxtrampa\"] = anios[j][\"no_diaphorinasxtrampa\"]\n",
        "    df_anios_todos.append(anio_orden)\n",
        "\n"
      ]
    },
    {
      "cell_type": "code",
      "source": [
        "concat = pd.concat([df_anios_todos[0], df_anios_todos[1], df_anios_todos[2], df_anios_todos[3], df_anios_todos[4], df_anios_todos[5]], ignore_index = False)\n",
        "concat"
      ],
      "metadata": {
        "colab": {
          "base_uri": "https://localhost:8080/",
          "height": 424
        },
        "id": "VzD9I1yWHWJT",
        "outputId": "5504dfdd-4265-405a-c8e5-6b9fe8e49bf8"
      },
      "id": "VzD9I1yWHWJT",
      "execution_count": null,
      "outputs": [
        {
          "output_type": "execute_result",
          "data": {
            "text/plain": [
              "                        ubicación  mes     año  no_diaphorinasxtrampa\n",
              "0       177_THUE05-28-030-0415T01  1.0  2015.0                    0.0\n",
              "1       177_THUE05-28-030-0415T01  1.0  2015.0                    0.0\n",
              "2       177_THUE05-28-030-0415T02  1.0  2015.0                    0.0\n",
              "3       177_THUE05-28-030-0415T02  1.0  2015.0                    0.0\n",
              "4       177_THUE05-28-030-0415T03  1.0  2015.0                    0.0\n",
              "...                           ...  ...     ...                    ...\n",
              "107742      THUE05/28-019/2966T04  9.0  2019.0                    2.0\n",
              "107743      THUE05/28-019/2966T03  9.0  2019.0                    3.0\n",
              "107744      THUE05/28-019/2966T10  9.0  2019.0                    0.0\n",
              "107745      THUE05/28-019/2966T15  9.0  2019.0                    0.0\n",
              "107746      THUE05/28-019/2966T08  9.0  2019.0                    0.0\n",
              "\n",
              "[1330903 rows x 4 columns]"
            ],
            "text/html": [
              "\n",
              "  <div id=\"df-fc567f40-010d-4e8f-baa6-429b06b80cab\">\n",
              "    <div class=\"colab-df-container\">\n",
              "      <div>\n",
              "<style scoped>\n",
              "    .dataframe tbody tr th:only-of-type {\n",
              "        vertical-align: middle;\n",
              "    }\n",
              "\n",
              "    .dataframe tbody tr th {\n",
              "        vertical-align: top;\n",
              "    }\n",
              "\n",
              "    .dataframe thead th {\n",
              "        text-align: right;\n",
              "    }\n",
              "</style>\n",
              "<table border=\"1\" class=\"dataframe\">\n",
              "  <thead>\n",
              "    <tr style=\"text-align: right;\">\n",
              "      <th></th>\n",
              "      <th>ubicación</th>\n",
              "      <th>mes</th>\n",
              "      <th>año</th>\n",
              "      <th>no_diaphorinasxtrampa</th>\n",
              "    </tr>\n",
              "  </thead>\n",
              "  <tbody>\n",
              "    <tr>\n",
              "      <th>0</th>\n",
              "      <td>177_THUE05-28-030-0415T01</td>\n",
              "      <td>1.0</td>\n",
              "      <td>2015.0</td>\n",
              "      <td>0.0</td>\n",
              "    </tr>\n",
              "    <tr>\n",
              "      <th>1</th>\n",
              "      <td>177_THUE05-28-030-0415T01</td>\n",
              "      <td>1.0</td>\n",
              "      <td>2015.0</td>\n",
              "      <td>0.0</td>\n",
              "    </tr>\n",
              "    <tr>\n",
              "      <th>2</th>\n",
              "      <td>177_THUE05-28-030-0415T02</td>\n",
              "      <td>1.0</td>\n",
              "      <td>2015.0</td>\n",
              "      <td>0.0</td>\n",
              "    </tr>\n",
              "    <tr>\n",
              "      <th>3</th>\n",
              "      <td>177_THUE05-28-030-0415T02</td>\n",
              "      <td>1.0</td>\n",
              "      <td>2015.0</td>\n",
              "      <td>0.0</td>\n",
              "    </tr>\n",
              "    <tr>\n",
              "      <th>4</th>\n",
              "      <td>177_THUE05-28-030-0415T03</td>\n",
              "      <td>1.0</td>\n",
              "      <td>2015.0</td>\n",
              "      <td>0.0</td>\n",
              "    </tr>\n",
              "    <tr>\n",
              "      <th>...</th>\n",
              "      <td>...</td>\n",
              "      <td>...</td>\n",
              "      <td>...</td>\n",
              "      <td>...</td>\n",
              "    </tr>\n",
              "    <tr>\n",
              "      <th>107742</th>\n",
              "      <td>THUE05/28-019/2966T04</td>\n",
              "      <td>9.0</td>\n",
              "      <td>2019.0</td>\n",
              "      <td>2.0</td>\n",
              "    </tr>\n",
              "    <tr>\n",
              "      <th>107743</th>\n",
              "      <td>THUE05/28-019/2966T03</td>\n",
              "      <td>9.0</td>\n",
              "      <td>2019.0</td>\n",
              "      <td>3.0</td>\n",
              "    </tr>\n",
              "    <tr>\n",
              "      <th>107744</th>\n",
              "      <td>THUE05/28-019/2966T10</td>\n",
              "      <td>9.0</td>\n",
              "      <td>2019.0</td>\n",
              "      <td>0.0</td>\n",
              "    </tr>\n",
              "    <tr>\n",
              "      <th>107745</th>\n",
              "      <td>THUE05/28-019/2966T15</td>\n",
              "      <td>9.0</td>\n",
              "      <td>2019.0</td>\n",
              "      <td>0.0</td>\n",
              "    </tr>\n",
              "    <tr>\n",
              "      <th>107746</th>\n",
              "      <td>THUE05/28-019/2966T08</td>\n",
              "      <td>9.0</td>\n",
              "      <td>2019.0</td>\n",
              "      <td>0.0</td>\n",
              "    </tr>\n",
              "  </tbody>\n",
              "</table>\n",
              "<p>1330903 rows × 4 columns</p>\n",
              "</div>\n",
              "      <button class=\"colab-df-convert\" onclick=\"convertToInteractive('df-fc567f40-010d-4e8f-baa6-429b06b80cab')\"\n",
              "              title=\"Convert this dataframe to an interactive table.\"\n",
              "              style=\"display:none;\">\n",
              "        \n",
              "  <svg xmlns=\"http://www.w3.org/2000/svg\" height=\"24px\"viewBox=\"0 0 24 24\"\n",
              "       width=\"24px\">\n",
              "    <path d=\"M0 0h24v24H0V0z\" fill=\"none\"/>\n",
              "    <path d=\"M18.56 5.44l.94 2.06.94-2.06 2.06-.94-2.06-.94-.94-2.06-.94 2.06-2.06.94zm-11 1L8.5 8.5l.94-2.06 2.06-.94-2.06-.94L8.5 2.5l-.94 2.06-2.06.94zm10 10l.94 2.06.94-2.06 2.06-.94-2.06-.94-.94-2.06-.94 2.06-2.06.94z\"/><path d=\"M17.41 7.96l-1.37-1.37c-.4-.4-.92-.59-1.43-.59-.52 0-1.04.2-1.43.59L10.3 9.45l-7.72 7.72c-.78.78-.78 2.05 0 2.83L4 21.41c.39.39.9.59 1.41.59.51 0 1.02-.2 1.41-.59l7.78-7.78 2.81-2.81c.8-.78.8-2.07 0-2.86zM5.41 20L4 18.59l7.72-7.72 1.47 1.35L5.41 20z\"/>\n",
              "  </svg>\n",
              "      </button>\n",
              "      \n",
              "  <style>\n",
              "    .colab-df-container {\n",
              "      display:flex;\n",
              "      flex-wrap:wrap;\n",
              "      gap: 12px;\n",
              "    }\n",
              "\n",
              "    .colab-df-convert {\n",
              "      background-color: #E8F0FE;\n",
              "      border: none;\n",
              "      border-radius: 50%;\n",
              "      cursor: pointer;\n",
              "      display: none;\n",
              "      fill: #1967D2;\n",
              "      height: 32px;\n",
              "      padding: 0 0 0 0;\n",
              "      width: 32px;\n",
              "    }\n",
              "\n",
              "    .colab-df-convert:hover {\n",
              "      background-color: #E2EBFA;\n",
              "      box-shadow: 0px 1px 2px rgba(60, 64, 67, 0.3), 0px 1px 3px 1px rgba(60, 64, 67, 0.15);\n",
              "      fill: #174EA6;\n",
              "    }\n",
              "\n",
              "    [theme=dark] .colab-df-convert {\n",
              "      background-color: #3B4455;\n",
              "      fill: #D2E3FC;\n",
              "    }\n",
              "\n",
              "    [theme=dark] .colab-df-convert:hover {\n",
              "      background-color: #434B5C;\n",
              "      box-shadow: 0px 1px 3px 1px rgba(0, 0, 0, 0.15);\n",
              "      filter: drop-shadow(0px 1px 2px rgba(0, 0, 0, 0.3));\n",
              "      fill: #FFFFFF;\n",
              "    }\n",
              "  </style>\n",
              "\n",
              "      <script>\n",
              "        const buttonEl =\n",
              "          document.querySelector('#df-fc567f40-010d-4e8f-baa6-429b06b80cab button.colab-df-convert');\n",
              "        buttonEl.style.display =\n",
              "          google.colab.kernel.accessAllowed ? 'block' : 'none';\n",
              "\n",
              "        async function convertToInteractive(key) {\n",
              "          const element = document.querySelector('#df-fc567f40-010d-4e8f-baa6-429b06b80cab');\n",
              "          const dataTable =\n",
              "            await google.colab.kernel.invokeFunction('convertToInteractive',\n",
              "                                                     [key], {});\n",
              "          if (!dataTable) return;\n",
              "\n",
              "          const docLinkHtml = 'Like what you see? Visit the ' +\n",
              "            '<a target=\"_blank\" href=https://colab.research.google.com/notebooks/data_table.ipynb>data table notebook</a>'\n",
              "            + ' to learn more about interactive tables.';\n",
              "          element.innerHTML = '';\n",
              "          dataTable['output_type'] = 'display_data';\n",
              "          await google.colab.output.renderOutput(dataTable, element);\n",
              "          const docLink = document.createElement('div');\n",
              "          docLink.innerHTML = docLinkHtml;\n",
              "          element.appendChild(docLink);\n",
              "        }\n",
              "      </script>\n",
              "    </div>\n",
              "  </div>\n",
              "  "
            ]
          },
          "metadata": {},
          "execution_count": 15
        }
      ]
    },
    {
      "cell_type": "code",
      "execution_count": null,
      "id": "1ac87b20",
      "metadata": {
        "id": "1ac87b20"
      },
      "outputs": [],
      "source": [
        "lista= []\n",
        "for k in range(0,6):\n",
        "    anio_mean = df_anios_todos[k].groupby(['ubicación',\"mes\"])[\"no_diaphorinasxtrampa\"].mean()\n",
        "    anio_year = df_anios_todos[k].groupby(['ubicación',\"mes\"])[\"año\"].mean()\n",
        "    anio_var = df_anios_todos[k].groupby(['ubicación',\"mes\"])[\"no_diaphorinasxtrampa\"].var()\n",
        "    anio_sum = df_anios_todos[k].groupby(['ubicación',\"mes\"])[\"no_diaphorinasxtrampa\"].sum()\n",
        "\n",
        "    df_anio = anio_mean.to_frame()\n",
        "    df_anio.columns = [\"Media\"]\n",
        "    df_anio[\"Varianza\"] = anio_var\n",
        "    df_anio[\"Suma\"] = anio_sum\n",
        "    df_anio[\"Índice de dispersión\"] = df_anio.Varianza/df_anio.Media\n",
        "    df_anio[\"Año\"] = anio_year\n",
        "    lista.append(df_anio)"
      ]
    },
    {
      "cell_type": "code",
      "source": [
        "concat = pd.concat([lista[0], lista[1], lista[2], lista[3], lista[4], lista[5]], ignore_index = False)\n",
        "concat"
      ],
      "metadata": {
        "id": "9gG2jsCtkxqg",
        "colab": {
          "base_uri": "https://localhost:8080/",
          "height": 455
        },
        "outputId": "93cef4d7-36b7-4d76-9b44-006208318bcf"
      },
      "id": "9gG2jsCtkxqg",
      "execution_count": null,
      "outputs": [
        {
          "output_type": "execute_result",
          "data": {
            "text/plain": [
              "                                Media  Varianza  Suma  Índice de dispersión  \\\n",
              "ubicación                 mes                                                 \n",
              "177_THUE05-28-011-0001T01 2.0     0.0       0.0   0.0                   NaN   \n",
              "                          3.0     0.0       0.0   0.0                   NaN   \n",
              "                          4.0     0.0       0.0   0.0                   NaN   \n",
              "                          5.0     0.0       0.0   0.0                   NaN   \n",
              "                          6.0     0.0       0.0   0.0                   NaN   \n",
              "...                               ...       ...   ...                   ...   \n",
              "THUE05/28-041/0194T20     8.0     0.0       0.0   0.0                   NaN   \n",
              "                          9.0     0.0       0.0   0.0                   NaN   \n",
              "                          10.0    0.0       0.0   0.0                   NaN   \n",
              "                          11.0    0.5       0.5   1.0                   1.0   \n",
              "                          12.0    2.0       NaN   2.0                   NaN   \n",
              "\n",
              "                                   Año  \n",
              "ubicación                 mes           \n",
              "177_THUE05-28-011-0001T01 2.0   2015.0  \n",
              "                          3.0   2015.0  \n",
              "                          4.0   2015.0  \n",
              "                          5.0   2015.0  \n",
              "                          6.0   2015.0  \n",
              "...                                ...  \n",
              "THUE05/28-041/0194T20     8.0   2019.0  \n",
              "                          9.0   2019.0  \n",
              "                          10.0  2019.0  \n",
              "                          11.0  2019.0  \n",
              "                          12.0  2019.0  \n",
              "\n",
              "[373059 rows x 5 columns]"
            ],
            "text/html": [
              "\n",
              "  <div id=\"df-b1e4a1d6-950b-48e7-a46c-5a3f9f091a7b\">\n",
              "    <div class=\"colab-df-container\">\n",
              "      <div>\n",
              "<style scoped>\n",
              "    .dataframe tbody tr th:only-of-type {\n",
              "        vertical-align: middle;\n",
              "    }\n",
              "\n",
              "    .dataframe tbody tr th {\n",
              "        vertical-align: top;\n",
              "    }\n",
              "\n",
              "    .dataframe thead th {\n",
              "        text-align: right;\n",
              "    }\n",
              "</style>\n",
              "<table border=\"1\" class=\"dataframe\">\n",
              "  <thead>\n",
              "    <tr style=\"text-align: right;\">\n",
              "      <th></th>\n",
              "      <th></th>\n",
              "      <th>Media</th>\n",
              "      <th>Varianza</th>\n",
              "      <th>Suma</th>\n",
              "      <th>Índice de dispersión</th>\n",
              "      <th>Año</th>\n",
              "    </tr>\n",
              "    <tr>\n",
              "      <th>ubicación</th>\n",
              "      <th>mes</th>\n",
              "      <th></th>\n",
              "      <th></th>\n",
              "      <th></th>\n",
              "      <th></th>\n",
              "      <th></th>\n",
              "    </tr>\n",
              "  </thead>\n",
              "  <tbody>\n",
              "    <tr>\n",
              "      <th rowspan=\"5\" valign=\"top\">177_THUE05-28-011-0001T01</th>\n",
              "      <th>2.0</th>\n",
              "      <td>0.0</td>\n",
              "      <td>0.0</td>\n",
              "      <td>0.0</td>\n",
              "      <td>NaN</td>\n",
              "      <td>2015.0</td>\n",
              "    </tr>\n",
              "    <tr>\n",
              "      <th>3.0</th>\n",
              "      <td>0.0</td>\n",
              "      <td>0.0</td>\n",
              "      <td>0.0</td>\n",
              "      <td>NaN</td>\n",
              "      <td>2015.0</td>\n",
              "    </tr>\n",
              "    <tr>\n",
              "      <th>4.0</th>\n",
              "      <td>0.0</td>\n",
              "      <td>0.0</td>\n",
              "      <td>0.0</td>\n",
              "      <td>NaN</td>\n",
              "      <td>2015.0</td>\n",
              "    </tr>\n",
              "    <tr>\n",
              "      <th>5.0</th>\n",
              "      <td>0.0</td>\n",
              "      <td>0.0</td>\n",
              "      <td>0.0</td>\n",
              "      <td>NaN</td>\n",
              "      <td>2015.0</td>\n",
              "    </tr>\n",
              "    <tr>\n",
              "      <th>6.0</th>\n",
              "      <td>0.0</td>\n",
              "      <td>0.0</td>\n",
              "      <td>0.0</td>\n",
              "      <td>NaN</td>\n",
              "      <td>2015.0</td>\n",
              "    </tr>\n",
              "    <tr>\n",
              "      <th>...</th>\n",
              "      <th>...</th>\n",
              "      <td>...</td>\n",
              "      <td>...</td>\n",
              "      <td>...</td>\n",
              "      <td>...</td>\n",
              "      <td>...</td>\n",
              "    </tr>\n",
              "    <tr>\n",
              "      <th rowspan=\"5\" valign=\"top\">THUE05/28-041/0194T20</th>\n",
              "      <th>8.0</th>\n",
              "      <td>0.0</td>\n",
              "      <td>0.0</td>\n",
              "      <td>0.0</td>\n",
              "      <td>NaN</td>\n",
              "      <td>2019.0</td>\n",
              "    </tr>\n",
              "    <tr>\n",
              "      <th>9.0</th>\n",
              "      <td>0.0</td>\n",
              "      <td>0.0</td>\n",
              "      <td>0.0</td>\n",
              "      <td>NaN</td>\n",
              "      <td>2019.0</td>\n",
              "    </tr>\n",
              "    <tr>\n",
              "      <th>10.0</th>\n",
              "      <td>0.0</td>\n",
              "      <td>0.0</td>\n",
              "      <td>0.0</td>\n",
              "      <td>NaN</td>\n",
              "      <td>2019.0</td>\n",
              "    </tr>\n",
              "    <tr>\n",
              "      <th>11.0</th>\n",
              "      <td>0.5</td>\n",
              "      <td>0.5</td>\n",
              "      <td>1.0</td>\n",
              "      <td>1.0</td>\n",
              "      <td>2019.0</td>\n",
              "    </tr>\n",
              "    <tr>\n",
              "      <th>12.0</th>\n",
              "      <td>2.0</td>\n",
              "      <td>NaN</td>\n",
              "      <td>2.0</td>\n",
              "      <td>NaN</td>\n",
              "      <td>2019.0</td>\n",
              "    </tr>\n",
              "  </tbody>\n",
              "</table>\n",
              "<p>373059 rows × 5 columns</p>\n",
              "</div>\n",
              "      <button class=\"colab-df-convert\" onclick=\"convertToInteractive('df-b1e4a1d6-950b-48e7-a46c-5a3f9f091a7b')\"\n",
              "              title=\"Convert this dataframe to an interactive table.\"\n",
              "              style=\"display:none;\">\n",
              "        \n",
              "  <svg xmlns=\"http://www.w3.org/2000/svg\" height=\"24px\"viewBox=\"0 0 24 24\"\n",
              "       width=\"24px\">\n",
              "    <path d=\"M0 0h24v24H0V0z\" fill=\"none\"/>\n",
              "    <path d=\"M18.56 5.44l.94 2.06.94-2.06 2.06-.94-2.06-.94-.94-2.06-.94 2.06-2.06.94zm-11 1L8.5 8.5l.94-2.06 2.06-.94-2.06-.94L8.5 2.5l-.94 2.06-2.06.94zm10 10l.94 2.06.94-2.06 2.06-.94-2.06-.94-.94-2.06-.94 2.06-2.06.94z\"/><path d=\"M17.41 7.96l-1.37-1.37c-.4-.4-.92-.59-1.43-.59-.52 0-1.04.2-1.43.59L10.3 9.45l-7.72 7.72c-.78.78-.78 2.05 0 2.83L4 21.41c.39.39.9.59 1.41.59.51 0 1.02-.2 1.41-.59l7.78-7.78 2.81-2.81c.8-.78.8-2.07 0-2.86zM5.41 20L4 18.59l7.72-7.72 1.47 1.35L5.41 20z\"/>\n",
              "  </svg>\n",
              "      </button>\n",
              "      \n",
              "  <style>\n",
              "    .colab-df-container {\n",
              "      display:flex;\n",
              "      flex-wrap:wrap;\n",
              "      gap: 12px;\n",
              "    }\n",
              "\n",
              "    .colab-df-convert {\n",
              "      background-color: #E8F0FE;\n",
              "      border: none;\n",
              "      border-radius: 50%;\n",
              "      cursor: pointer;\n",
              "      display: none;\n",
              "      fill: #1967D2;\n",
              "      height: 32px;\n",
              "      padding: 0 0 0 0;\n",
              "      width: 32px;\n",
              "    }\n",
              "\n",
              "    .colab-df-convert:hover {\n",
              "      background-color: #E2EBFA;\n",
              "      box-shadow: 0px 1px 2px rgba(60, 64, 67, 0.3), 0px 1px 3px 1px rgba(60, 64, 67, 0.15);\n",
              "      fill: #174EA6;\n",
              "    }\n",
              "\n",
              "    [theme=dark] .colab-df-convert {\n",
              "      background-color: #3B4455;\n",
              "      fill: #D2E3FC;\n",
              "    }\n",
              "\n",
              "    [theme=dark] .colab-df-convert:hover {\n",
              "      background-color: #434B5C;\n",
              "      box-shadow: 0px 1px 3px 1px rgba(0, 0, 0, 0.15);\n",
              "      filter: drop-shadow(0px 1px 2px rgba(0, 0, 0, 0.3));\n",
              "      fill: #FFFFFF;\n",
              "    }\n",
              "  </style>\n",
              "\n",
              "      <script>\n",
              "        const buttonEl =\n",
              "          document.querySelector('#df-b1e4a1d6-950b-48e7-a46c-5a3f9f091a7b button.colab-df-convert');\n",
              "        buttonEl.style.display =\n",
              "          google.colab.kernel.accessAllowed ? 'block' : 'none';\n",
              "\n",
              "        async function convertToInteractive(key) {\n",
              "          const element = document.querySelector('#df-b1e4a1d6-950b-48e7-a46c-5a3f9f091a7b');\n",
              "          const dataTable =\n",
              "            await google.colab.kernel.invokeFunction('convertToInteractive',\n",
              "                                                     [key], {});\n",
              "          if (!dataTable) return;\n",
              "\n",
              "          const docLinkHtml = 'Like what you see? Visit the ' +\n",
              "            '<a target=\"_blank\" href=https://colab.research.google.com/notebooks/data_table.ipynb>data table notebook</a>'\n",
              "            + ' to learn more about interactive tables.';\n",
              "          element.innerHTML = '';\n",
              "          dataTable['output_type'] = 'display_data';\n",
              "          await google.colab.output.renderOutput(dataTable, element);\n",
              "          const docLink = document.createElement('div');\n",
              "          docLink.innerHTML = docLinkHtml;\n",
              "          element.appendChild(docLink);\n",
              "        }\n",
              "      </script>\n",
              "    </div>\n",
              "  </div>\n",
              "  "
            ]
          },
          "metadata": {},
          "execution_count": 22
        }
      ]
    }
  ],
  "metadata": {
    "kernelspec": {
      "display_name": "Python 3 (ipykernel)",
      "language": "python",
      "name": "python3"
    },
    "language_info": {
      "codemirror_mode": {
        "name": "ipython",
        "version": 3
      },
      "file_extension": ".py",
      "mimetype": "text/x-python",
      "name": "python",
      "nbconvert_exporter": "python",
      "pygments_lexer": "ipython3",
      "version": "3.9.12"
    },
    "colab": {
      "provenance": [],
      "include_colab_link": true
    }
  },
  "nbformat": 4,
  "nbformat_minor": 5
}