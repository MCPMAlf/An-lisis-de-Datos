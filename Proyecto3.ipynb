{
  "nbformat": 4,
  "nbformat_minor": 0,
  "metadata": {
    "colab": {
      "provenance": [],
      "authorship_tag": "ABX9TyOrFJpsZ/opO8XnutiAz4Zb",
      "include_colab_link": true
    },
    "kernelspec": {
      "name": "python3",
      "display_name": "Python 3"
    },
    "language_info": {
      "name": "python"
    }
  },
  "cells": [
    {
      "cell_type": "markdown",
      "metadata": {
        "id": "view-in-github",
        "colab_type": "text"
      },
      "source": [
        "<a href=\"https://colab.research.google.com/github/MCPMAlf/An-lisis-de-Datos/blob/main/Proyecto3.ipynb\" target=\"_parent\"><img src=\"https://colab.research.google.com/assets/colab-badge.svg\" alt=\"Open In Colab\"/></a>"
      ]
    },
    {
      "cell_type": "code",
      "execution_count": 1,
      "metadata": {
        "id": "NCvoexy0U6Uo"
      },
      "outputs": [],
      "source": [
        "#Importa paquetes necesarios\n",
        "import numpy as np\n",
        "import pandas as pd\n",
        "import scipy.stats as stats\n",
        "import matplotlib.pyplot as plt\n",
        "\n",
        "from scipy.integrate import odeint\n",
        "import scipy.optimize as optimize\n",
        "\n",
        "from scipy.interpolate import lagrange"
      ]
    },
    {
      "cell_type": "code",
      "source": [
        "#Lectura de datos\n",
        "Datos = pd.read_csv('/content/Puebla_pos.csv')\n",
        "\n",
        "Datos = Datos.drop(columns = ['Unnamed: 0'])\n",
        "\n",
        "#Vizualizacion de los datos\n",
        "Datos.head()\n",
        "\n"
      ],
      "metadata": {
        "colab": {
          "base_uri": "https://localhost:8080/",
          "height": 206
        },
        "id": "j1tcqKnKV-Nd",
        "outputId": "0f73aeac-f7d4-43b4-b614-df023c647923"
      },
      "execution_count": 2,
      "outputs": [
        {
          "output_type": "execute_result",
          "data": {
            "text/plain": [
              "  FECHA_SINTOMAS  positivo\n",
              "0     2020-03-02         1\n",
              "1     2020-03-05         2\n",
              "2     2020-03-08         3\n",
              "3     2020-03-09         4\n",
              "4     2020-03-10         3"
            ],
            "text/html": [
              "\n",
              "  <div id=\"df-11cec9eb-21f9-4ac7-8664-189371b76dda\">\n",
              "    <div class=\"colab-df-container\">\n",
              "      <div>\n",
              "<style scoped>\n",
              "    .dataframe tbody tr th:only-of-type {\n",
              "        vertical-align: middle;\n",
              "    }\n",
              "\n",
              "    .dataframe tbody tr th {\n",
              "        vertical-align: top;\n",
              "    }\n",
              "\n",
              "    .dataframe thead th {\n",
              "        text-align: right;\n",
              "    }\n",
              "</style>\n",
              "<table border=\"1\" class=\"dataframe\">\n",
              "  <thead>\n",
              "    <tr style=\"text-align: right;\">\n",
              "      <th></th>\n",
              "      <th>FECHA_SINTOMAS</th>\n",
              "      <th>positivo</th>\n",
              "    </tr>\n",
              "  </thead>\n",
              "  <tbody>\n",
              "    <tr>\n",
              "      <th>0</th>\n",
              "      <td>2020-03-02</td>\n",
              "      <td>1</td>\n",
              "    </tr>\n",
              "    <tr>\n",
              "      <th>1</th>\n",
              "      <td>2020-03-05</td>\n",
              "      <td>2</td>\n",
              "    </tr>\n",
              "    <tr>\n",
              "      <th>2</th>\n",
              "      <td>2020-03-08</td>\n",
              "      <td>3</td>\n",
              "    </tr>\n",
              "    <tr>\n",
              "      <th>3</th>\n",
              "      <td>2020-03-09</td>\n",
              "      <td>4</td>\n",
              "    </tr>\n",
              "    <tr>\n",
              "      <th>4</th>\n",
              "      <td>2020-03-10</td>\n",
              "      <td>3</td>\n",
              "    </tr>\n",
              "  </tbody>\n",
              "</table>\n",
              "</div>\n",
              "      <button class=\"colab-df-convert\" onclick=\"convertToInteractive('df-11cec9eb-21f9-4ac7-8664-189371b76dda')\"\n",
              "              title=\"Convert this dataframe to an interactive table.\"\n",
              "              style=\"display:none;\">\n",
              "        \n",
              "  <svg xmlns=\"http://www.w3.org/2000/svg\" height=\"24px\"viewBox=\"0 0 24 24\"\n",
              "       width=\"24px\">\n",
              "    <path d=\"M0 0h24v24H0V0z\" fill=\"none\"/>\n",
              "    <path d=\"M18.56 5.44l.94 2.06.94-2.06 2.06-.94-2.06-.94-.94-2.06-.94 2.06-2.06.94zm-11 1L8.5 8.5l.94-2.06 2.06-.94-2.06-.94L8.5 2.5l-.94 2.06-2.06.94zm10 10l.94 2.06.94-2.06 2.06-.94-2.06-.94-.94-2.06-.94 2.06-2.06.94z\"/><path d=\"M17.41 7.96l-1.37-1.37c-.4-.4-.92-.59-1.43-.59-.52 0-1.04.2-1.43.59L10.3 9.45l-7.72 7.72c-.78.78-.78 2.05 0 2.83L4 21.41c.39.39.9.59 1.41.59.51 0 1.02-.2 1.41-.59l7.78-7.78 2.81-2.81c.8-.78.8-2.07 0-2.86zM5.41 20L4 18.59l7.72-7.72 1.47 1.35L5.41 20z\"/>\n",
              "  </svg>\n",
              "      </button>\n",
              "      \n",
              "  <style>\n",
              "    .colab-df-container {\n",
              "      display:flex;\n",
              "      flex-wrap:wrap;\n",
              "      gap: 12px;\n",
              "    }\n",
              "\n",
              "    .colab-df-convert {\n",
              "      background-color: #E8F0FE;\n",
              "      border: none;\n",
              "      border-radius: 50%;\n",
              "      cursor: pointer;\n",
              "      display: none;\n",
              "      fill: #1967D2;\n",
              "      height: 32px;\n",
              "      padding: 0 0 0 0;\n",
              "      width: 32px;\n",
              "    }\n",
              "\n",
              "    .colab-df-convert:hover {\n",
              "      background-color: #E2EBFA;\n",
              "      box-shadow: 0px 1px 2px rgba(60, 64, 67, 0.3), 0px 1px 3px 1px rgba(60, 64, 67, 0.15);\n",
              "      fill: #174EA6;\n",
              "    }\n",
              "\n",
              "    [theme=dark] .colab-df-convert {\n",
              "      background-color: #3B4455;\n",
              "      fill: #D2E3FC;\n",
              "    }\n",
              "\n",
              "    [theme=dark] .colab-df-convert:hover {\n",
              "      background-color: #434B5C;\n",
              "      box-shadow: 0px 1px 3px 1px rgba(0, 0, 0, 0.15);\n",
              "      filter: drop-shadow(0px 1px 2px rgba(0, 0, 0, 0.3));\n",
              "      fill: #FFFFFF;\n",
              "    }\n",
              "  </style>\n",
              "\n",
              "      <script>\n",
              "        const buttonEl =\n",
              "          document.querySelector('#df-11cec9eb-21f9-4ac7-8664-189371b76dda button.colab-df-convert');\n",
              "        buttonEl.style.display =\n",
              "          google.colab.kernel.accessAllowed ? 'block' : 'none';\n",
              "\n",
              "        async function convertToInteractive(key) {\n",
              "          const element = document.querySelector('#df-11cec9eb-21f9-4ac7-8664-189371b76dda');\n",
              "          const dataTable =\n",
              "            await google.colab.kernel.invokeFunction('convertToInteractive',\n",
              "                                                     [key], {});\n",
              "          if (!dataTable) return;\n",
              "\n",
              "          const docLinkHtml = 'Like what you see? Visit the ' +\n",
              "            '<a target=\"_blank\" href=https://colab.research.google.com/notebooks/data_table.ipynb>data table notebook</a>'\n",
              "            + ' to learn more about interactive tables.';\n",
              "          element.innerHTML = '';\n",
              "          dataTable['output_type'] = 'display_data';\n",
              "          await google.colab.output.renderOutput(dataTable, element);\n",
              "          const docLink = document.createElement('div');\n",
              "          docLink.innerHTML = docLinkHtml;\n",
              "          element.appendChild(docLink);\n",
              "        }\n",
              "      </script>\n",
              "    </div>\n",
              "  </div>\n",
              "  "
            ]
          },
          "metadata": {},
          "execution_count": 2
        }
      ]
    },
    {
      "cell_type": "code",
      "source": [
        "#Graficar los datos. Eje horizontal representa las fechas; el eje vertical representa el número de infectados en dicha fecha.\n",
        "plt.scatter(Datos['FECHA_SINTOMAS'], Datos['positivo'], s = 2)"
      ],
      "metadata": {
        "colab": {
          "base_uri": "https://localhost:8080/",
          "height": 448
        },
        "id": "wk2ZutggWyZq",
        "outputId": "e913e722-46ed-4fd3-af6f-7e3b12b9df03"
      },
      "execution_count": 3,
      "outputs": [
        {
          "output_type": "execute_result",
          "data": {
            "text/plain": [
              "<matplotlib.collections.PathCollection at 0x7f6d88b14fa0>"
            ]
          },
          "metadata": {},
          "execution_count": 3
        },
        {
          "output_type": "display_data",
          "data": {
            "text/plain": [
              "<Figure size 640x480 with 1 Axes>"
            ],
            "image/png": "[encoded data removed]"
          },
          "metadata": {}
        }
      ]
    },
    {
      "cell_type": "code",
      "source": [
        "#Creación de columna con datos acumulados de los positivos.\n",
        "Acumulado = Datos['positivo'].copy()\n",
        "\n",
        "for i in range(1, len(Datos['positivo'])):\n",
        "  Acumulado[i] = Acumulado[i-1] + Acumulado[i]\n",
        "\n",
        "Datos['Positivos_acumulados'] = Acumulado\n",
        "\n",
        "Datos"
      ],
      "metadata": {
        "colab": {
          "base_uri": "https://localhost:8080/",
          "height": 424
        },
        "id": "mtHlfNFDGW3b",
        "outputId": "1af574e2-cb51-4767-9d6e-5b067cc888c3"
      },
      "execution_count": 4,
      "outputs": [
        {
          "output_type": "execute_result",
          "data": {
            "text/plain": [
              "    FECHA_SINTOMAS  positivo  Positivos_acumulados\n",
              "0       2020-03-02         1                     1\n",
              "1       2020-03-05         2                     3\n",
              "2       2020-03-08         3                     6\n",
              "3       2020-03-09         4                    10\n",
              "4       2020-03-10         3                    13\n",
              "..             ...       ...                   ...\n",
              "673     2022-01-09       493                139030\n",
              "674     2022-01-10       556                139586\n",
              "675     2022-01-11       287                139873\n",
              "676     2022-01-12       149                140022\n",
              "677     2022-01-13        33                140055\n",
              "\n",
              "[678 rows x 3 columns]"
            ],
            "text/html": [
              "\n",
              "  <div id=\"df-893b4b30-33bb-4287-b658-ad5642002793\">\n",
              "    <div class=\"colab-df-container\">\n",
              "      <div>\n",
              "<style scoped>\n",
              "    .dataframe tbody tr th:only-of-type {\n",
              "        vertical-align: middle;\n",
              "    }\n",
              "\n",
              "    .dataframe tbody tr th {\n",
              "        vertical-align: top;\n",
              "    }\n",
              "\n",
              "    .dataframe thead th {\n",
              "        text-align: right;\n",
              "    }\n",
              "</style>\n",
              "<table border=\"1\" class=\"dataframe\">\n",
              "  <thead>\n",
              "    <tr style=\"text-align: right;\">\n",
              "      <th></th>\n",
              "      <th>FECHA_SINTOMAS</th>\n",
              "      <th>positivo</th>\n",
              "      <th>Positivos_acumulados</th>\n",
              "    </tr>\n",
              "  </thead>\n",
              "  <tbody>\n",
              "    <tr>\n",
              "      <th>0</th>\n",
              "      <td>2020-03-02</td>\n",
              "      <td>1</td>\n",
              "      <td>1</td>\n",
              "    </tr>\n",
              "    <tr>\n",
              "      <th>1</th>\n",
              "      <td>2020-03-05</td>\n",
              "      <td>2</td>\n",
              "      <td>3</td>\n",
              "    </tr>\n",
              "    <tr>\n",
              "      <th>2</th>\n",
              "      <td>2020-03-08</td>\n",
              "      <td>3</td>\n",
              "      <td>6</td>\n",
              "    </tr>\n",
              "    <tr>\n",
              "      <th>3</th>\n",
              "      <td>2020-03-09</td>\n",
              "      <td>4</td>\n",
              "      <td>10</td>\n",
              "    </tr>\n",
              "    <tr>\n",
              "      <th>4</th>\n",
              "      <td>2020-03-10</td>\n",
              "      <td>3</td>\n",
              "      <td>13</td>\n",
              "    </tr>\n",
              "    <tr>\n",
              "      <th>...</th>\n",
              "      <td>...</td>\n",
              "      <td>...</td>\n",
              "      <td>...</td>\n",
              "    </tr>\n",
              "    <tr>\n",
              "      <th>673</th>\n",
              "      <td>2022-01-09</td>\n",
              "      <td>493</td>\n",
              "      <td>139030</td>\n",
              "    </tr>\n",
              "    <tr>\n",
              "      <th>674</th>\n",
              "      <td>2022-01-10</td>\n",
              "      <td>556</td>\n",
              "      <td>139586</td>\n",
              "    </tr>\n",
              "    <tr>\n",
              "      <th>675</th>\n",
              "      <td>2022-01-11</td>\n",
              "      <td>287</td>\n",
              "      <td>139873</td>\n",
              "    </tr>\n",
              "    <tr>\n",
              "      <th>676</th>\n",
              "      <td>2022-01-12</td>\n",
              "      <td>149</td>\n",
              "      <td>140022</td>\n",
              "    </tr>\n",
              "    <tr>\n",
              "      <th>677</th>\n",
              "      <td>2022-01-13</td>\n",
              "      <td>33</td>\n",
              "      <td>140055</td>\n",
              "    </tr>\n",
              "  </tbody>\n",
              "</table>\n",
              "<p>678 rows × 3 columns</p>\n",
              "</div>\n",
              "      <button class=\"colab-df-convert\" onclick=\"convertToInteractive('df-893b4b30-33bb-4287-b658-ad5642002793')\"\n",
              "              title=\"Convert this dataframe to an interactive table.\"\n",
              "              style=\"display:none;\">\n",
              "        \n",
              "  <svg xmlns=\"http://www.w3.org/2000/svg\" height=\"24px\"viewBox=\"0 0 24 24\"\n",
              "       width=\"24px\">\n",
              "    <path d=\"M0 0h24v24H0V0z\" fill=\"none\"/>\n",
              "    <path d=\"M18.56 5.44l.94 2.06.94-2.06 2.06-.94-2.06-.94-.94-2.06-.94 2.06-2.06.94zm-11 1L8.5 8.5l.94-2.06 2.06-.94-2.06-.94L8.5 2.5l-.94 2.06-2.06.94zm10 10l.94 2.06.94-2.06 2.06-.94-2.06-.94-.94-2.06-.94 2.06-2.06.94z\"/><path d=\"M17.41 7.96l-1.37-1.37c-.4-.4-.92-.59-1.43-.59-.52 0-1.04.2-1.43.59L10.3 9.45l-7.72 7.72c-.78.78-.78 2.05 0 2.83L4 21.41c.39.39.9.59 1.41.59.51 0 1.02-.2 1.41-.59l7.78-7.78 2.81-2.81c.8-.78.8-2.07 0-2.86zM5.41 20L4 18.59l7.72-7.72 1.47 1.35L5.41 20z\"/>\n",
              "  </svg>\n",
              "      </button>\n",
              "      \n",
              "  <style>\n",
              "    .colab-df-container {\n",
              "      display:flex;\n",
              "      flex-wrap:wrap;\n",
              "      gap: 12px;\n",
              "    }\n",
              "\n",
              "    .colab-df-convert {\n",
              "      background-color: #E8F0FE;\n",
              "      border: none;\n",
              "      border-radius: 50%;\n",
              "      cursor: pointer;\n",
              "      display: none;\n",
              "      fill: #1967D2;\n",
              "      height: 32px;\n",
              "      padding: 0 0 0 0;\n",
              "      width: 32px;\n",
              "    }\n",
              "\n",
              "    .colab-df-convert:hover {\n",
              "      background-color: #E2EBFA;\n",
              "      box-shadow: 0px 1px 2px rgba(60, 64, 67, 0.3), 0px 1px 3px 1px rgba(60, 64, 67, 0.15);\n",
              "      fill: #174EA6;\n",
              "    }\n",
              "\n",
              "    [theme=dark] .colab-df-convert {\n",
              "      background-color: #3B4455;\n",
              "      fill: #D2E3FC;\n",
              "    }\n",
              "\n",
              "    [theme=dark] .colab-df-convert:hover {\n",
              "      background-color: #434B5C;\n",
              "      box-shadow: 0px 1px 3px 1px rgba(0, 0, 0, 0.15);\n",
              "      filter: drop-shadow(0px 1px 2px rgba(0, 0, 0, 0.3));\n",
              "      fill: #FFFFFF;\n",
              "    }\n",
              "  </style>\n",
              "\n",
              "      <script>\n",
              "        const buttonEl =\n",
              "          document.querySelector('#df-893b4b30-33bb-4287-b658-ad5642002793 button.colab-df-convert');\n",
              "        buttonEl.style.display =\n",
              "          google.colab.kernel.accessAllowed ? 'block' : 'none';\n",
              "\n",
              "        async function convertToInteractive(key) {\n",
              "          const element = document.querySelector('#df-893b4b30-33bb-4287-b658-ad5642002793');\n",
              "          const dataTable =\n",
              "            await google.colab.kernel.invokeFunction('convertToInteractive',\n",
              "                                                     [key], {});\n",
              "          if (!dataTable) return;\n",
              "\n",
              "          const docLinkHtml = 'Like what you see? Visit the ' +\n",
              "            '<a target=\"_blank\" href=https://colab.research.google.com/notebooks/data_table.ipynb>data table notebook</a>'\n",
              "            + ' to learn more about interactive tables.';\n",
              "          element.innerHTML = '';\n",
              "          dataTable['output_type'] = 'display_data';\n",
              "          await google.colab.output.renderOutput(dataTable, element);\n",
              "          const docLink = document.createElement('div');\n",
              "          docLink.innerHTML = docLinkHtml;\n",
              "          element.appendChild(docLink);\n",
              "        }\n",
              "      </script>\n",
              "    </div>\n",
              "  </div>\n",
              "  "
            ]
          },
          "metadata": {},
          "execution_count": 4
        }
      ]
    },
    {
      "cell_type": "markdown",
      "source": [
        "Notas para primera ola: Falta ordenar por semana y tomar la semana como tiempo.\n",
        "Usar el codigo de regresión para solucionar el modelo primero con parámetros elegidos sin noción.\n",
        "Ajustar los parámetros usando curve_fit/Minimize."
      ],
      "metadata": {
        "id": "0N4vVJs2B_vI"
      }
    },
    {
      "cell_type": "code",
      "source": [
        "#Graficar los datos. Eje horizontal representa las fechas; el eje vertical representa el número de infectados acumulados en dicha fecha.\n",
        "plt.scatter(Datos['FECHA_SINTOMAS'], Datos['Positivos_acumulados'], s = 1)"
      ],
      "metadata": {
        "colab": {
          "base_uri": "https://localhost:8080/",
          "height": 448
        },
        "id": "rRctVZwf7xhh",
        "outputId": "1066154f-b2cc-4698-9a87-613c46a73f31"
      },
      "execution_count": 5,
      "outputs": [
        {
          "output_type": "execute_result",
          "data": {
            "text/plain": [
              "<matplotlib.collections.PathCollection at 0x7f6d86220c70>"
            ]
          },
          "metadata": {},
          "execution_count": 5
        },
        {
          "output_type": "display_data",
          "data": {
            "text/plain": [
              "<Figure size 640x480 with 1 Axes>"
            ],
            "image/png": "[encoded data removed]"
          },
          "metadata": {}
        }
      ]
    },
    {
      "cell_type": "code",
      "source": [
        "#Creación de columna que contiene como datos las semanas que han transcurrido.\n",
        "from datetime import datetime\n",
        "import math\n",
        "\n",
        "FechaSintomas_string = Datos['FECHA_SINTOMAS']\n",
        "\n",
        "FechaSintomas_string = pd.to_datetime(FechaSintomas_string)\n",
        "Semana_Sintomas = []\n",
        "\n",
        "for i in range(len(Datos['FECHA_SINTOMAS'])):\n",
        "  Semana_Sintomas.append((math.trunc(FechaSintomas_string[i].day/7) + 1))\n",
        "  \n",
        "  #if FechaSintomas_string[i].month != FechaSintomas_string[i].month\n",
        "\n",
        "print(Semana_Sintomas)\n",
        "\n",
        "print(len(Semana_Sintomas))\n",
        "print(len(Datos['FECHA_SINTOMAS']))\n",
        "\n",
        "Prueba = Semana_Sintomas.copy()\n",
        "Acumulado = 0\n",
        "\n",
        "\n",
        "for i in range(0, len(Semana_Sintomas)-1):\n",
        "\n",
        "  Semana_Sintomas[i] = Semana_Sintomas[i] + Acumulado\n",
        "\n",
        "  if (FechaSintomas_string[i].month != FechaSintomas_string[i+1].month) | (FechaSintomas_string[i].year != FechaSintomas_string[i+1].year)  :\n",
        "    Acumulado = Semana_Sintomas[i]\n",
        "\n",
        "if (FechaSintomas_string[len(Semana_Sintomas)-1].month != FechaSintomas_string[len(Semana_Sintomas)-2].month) | (FechaSintomas_string[len(Semana_Sintomas)-1].year != FechaSintomas_string[len(Semana_Sintomas)-2].year) :\n",
        "  Prueba[len(Semana_Sintomas)-1] = Semana_Sintomas[len(Semana_Sintomas)-1] + Semana_Sintomas[len(Semana_Sintomas)-2]\n",
        "\n",
        "else :\n",
        "  Semana_Sintomas[len(Semana_Sintomas)-1] =  Semana_Sintomas[len(Semana_Sintomas)-2]\n",
        "    \n",
        "\n",
        "Datos['Semana'] = Semana_Sintomas\n",
        "\n",
        "Datos['Semana']\n",
        "\n",
        "\n",
        "\n",
        "\n"
      ],
      "metadata": {
        "colab": {
          "base_uri": "https://localhost:8080/"
        },
        "id": "hjURP_zYa1As",
        "outputId": "20abb2ba-5659-4061-ac43-2caa28d8607e"
      },
      "execution_count": 6,
      "outputs": [
        {
          "output_type": "stream",
          "name": "stdout",
          "text": [
            "[1, 1, 2, 2, 2, 2, 2, 3, 3, 3, 3, 3, 3, 3, 4, 4, 4, 4, 4, 4, 4, 5, 5, 5, 5, 1, 1, 1, 1, 1, 1, 2, 2, 2, 2, 2, 2, 2, 3, 3, 3, 3, 3, 3, 3, 4, 4, 4, 4, 4, 4, 4, 5, 5, 5, 1, 1, 1, 1, 1, 1, 2, 2, 2, 2, 2, 2, 2, 3, 3, 3, 3, 3, 3, 3, 4, 4, 4, 4, 4, 4, 4, 5, 5, 5, 5, 1, 1, 1, 1, 1, 1, 2, 2, 2, 2, 2, 2, 2, 3, 3, 3, 3, 3, 3, 3, 4, 4, 4, 4, 4, 4, 4, 5, 5, 5, 1, 1, 1, 1, 1, 1, 2, 2, 2, 2, 2, 2, 2, 3, 3, 3, 3, 3, 3, 3, 4, 4, 4, 4, 4, 4, 4, 5, 5, 5, 5, 1, 1, 1, 1, 1, 1, 2, 2, 2, 2, 2, 2, 2, 3, 3, 3, 3, 3, 3, 3, 4, 4, 4, 4, 4, 4, 4, 5, 5, 5, 5, 1, 1, 1, 1, 1, 1, 2, 2, 2, 2, 2, 2, 2, 3, 3, 3, 3, 3, 3, 3, 4, 4, 4, 4, 4, 4, 4, 5, 5, 5, 1, 1, 1, 1, 1, 1, 2, 2, 2, 2, 2, 2, 2, 3, 3, 3, 3, 3, 3, 3, 4, 4, 4, 4, 4, 4, 4, 5, 5, 5, 5, 1, 1, 1, 1, 1, 1, 2, 2, 2, 2, 2, 2, 2, 3, 3, 3, 3, 3, 3, 3, 4, 4, 4, 4, 4, 4, 4, 5, 5, 5, 1, 1, 1, 1, 1, 1, 2, 2, 2, 2, 2, 2, 2, 3, 3, 3, 3, 3, 3, 3, 4, 4, 4, 4, 4, 4, 4, 5, 5, 5, 5, 1, 1, 1, 1, 1, 1, 2, 2, 2, 2, 2, 2, 2, 3, 3, 3, 3, 3, 3, 3, 4, 4, 4, 4, 4, 4, 4, 5, 5, 5, 5, 1, 1, 1, 1, 1, 1, 2, 2, 2, 2, 2, 2, 2, 3, 3, 3, 3, 3, 3, 3, 4, 4, 4, 4, 4, 4, 4, 5, 1, 1, 1, 1, 1, 1, 2, 2, 2, 2, 2, 2, 2, 3, 3, 3, 3, 3, 3, 3, 4, 4, 4, 4, 4, 4, 4, 5, 5, 5, 5, 1, 1, 1, 1, 1, 1, 2, 2, 2, 2, 2, 2, 2, 3, 3, 3, 3, 3, 3, 3, 4, 4, 4, 4, 4, 4, 4, 5, 5, 5, 1, 1, 1, 1, 1, 1, 2, 2, 2, 2, 2, 2, 2, 3, 3, 3, 3, 3, 3, 3, 4, 4, 4, 4, 4, 4, 4, 5, 5, 5, 5, 1, 1, 1, 1, 1, 1, 2, 2, 2, 2, 2, 2, 2, 3, 3, 3, 3, 3, 3, 3, 4, 4, 4, 4, 4, 4, 4, 5, 5, 5, 1, 1, 1, 1, 1, 1, 2, 2, 2, 2, 2, 2, 2, 3, 3, 3, 3, 3, 3, 3, 4, 4, 4, 4, 4, 4, 4, 5, 5, 5, 5, 1, 1, 1, 1, 1, 1, 2, 2, 2, 2, 2, 2, 2, 3, 3, 3, 3, 3, 3, 3, 4, 4, 4, 4, 4, 4, 4, 5, 5, 5, 5, 1, 1, 1, 1, 1, 1, 2, 2, 2, 2, 2, 2, 2, 3, 3, 3, 3, 3, 3, 3, 4, 4, 4, 4, 4, 4, 4, 5, 5, 5, 1, 1, 1, 1, 1, 1, 2, 2, 2, 2, 2, 2, 2, 3, 3, 3, 3, 3, 3, 3, 4, 4, 4, 4, 4, 4, 4, 5, 5, 5, 5, 1, 1, 1, 1, 1, 1, 2, 2, 2, 2, 2, 2, 2, 3, 3, 3, 3, 3, 3, 3, 4, 4, 4, 4, 4, 4, 4, 5, 5, 5, 1, 1, 1, 1, 1, 1, 2, 2, 2, 2, 2, 2, 2, 3, 3, 3, 3, 3, 3, 3, 4, 4, 4, 4, 4, 4, 4, 5, 5, 5, 5, 1, 1, 1, 1, 1, 1, 2, 2, 2, 2, 2, 2, 2]\n",
            "678\n",
            "678\n"
          ]
        },
        {
          "output_type": "execute_result",
          "data": {
            "text/plain": [
              "0        1\n",
              "1        1\n",
              "2        2\n",
              "3        2\n",
              "4        2\n",
              "      ... \n",
              "673    112\n",
              "674    112\n",
              "675    112\n",
              "676    112\n",
              "677    112\n",
              "Name: Semana, Length: 678, dtype: int64"
            ]
          },
          "metadata": {},
          "execution_count": 6
        }
      ]
    },
    {
      "cell_type": "code",
      "source": [
        "Datos"
      ],
      "metadata": {
        "colab": {
          "base_uri": "https://localhost:8080/",
          "height": 424
        },
        "id": "j59ZOj2oaZNf",
        "outputId": "f48cd810-628c-47e0-9a16-3d7be36e1e2c"
      },
      "execution_count": 65,
      "outputs": [
        {
          "output_type": "execute_result",
          "data": {
            "text/plain": [
              "    FECHA_SINTOMAS  positivo  Positivos_acumulados  Semana\n",
              "0       2020-03-02         1                     1       1\n",
              "1       2020-03-05         2                     3       1\n",
              "2       2020-03-08         3                     6       2\n",
              "3       2020-03-09         4                    10       2\n",
              "4       2020-03-10         3                    13       2\n",
              "..             ...       ...                   ...     ...\n",
              "673     2022-01-09       493                139030     112\n",
              "674     2022-01-10       556                139586     112\n",
              "675     2022-01-11       287                139873     112\n",
              "676     2022-01-12       149                140022     112\n",
              "677     2022-01-13        33                140055     112\n",
              "\n",
              "[678 rows x 4 columns]"
            ],
            "text/html": [
              "\n",
              "  <div id=\"df-0ea3f7b4-a872-43e2-a437-ba7bf2356a14\">\n",
              "    <div class=\"colab-df-container\">\n",
              "      <div>\n",
              "<style scoped>\n",
              "    .dataframe tbody tr th:only-of-type {\n",
              "        vertical-align: middle;\n",
              "    }\n",
              "\n",
              "    .dataframe tbody tr th {\n",
              "        vertical-align: top;\n",
              "    }\n",
              "\n",
              "    .dataframe thead th {\n",
              "        text-align: right;\n",
              "    }\n",
              "</style>\n",
              "<table border=\"1\" class=\"dataframe\">\n",
              "  <thead>\n",
              "    <tr style=\"text-align: right;\">\n",
              "      <th></th>\n",
              "      <th>FECHA_SINTOMAS</th>\n",
              "      <th>positivo</th>\n",
              "      <th>Positivos_acumulados</th>\n",
              "      <th>Semana</th>\n",
              "    </tr>\n",
              "  </thead>\n",
              "  <tbody>\n",
              "    <tr>\n",
              "      <th>0</th>\n",
              "      <td>2020-03-02</td>\n",
              "      <td>1</td>\n",
              "      <td>1</td>\n",
              "      <td>1</td>\n",
              "    </tr>\n",
              "    <tr>\n",
              "      <th>1</th>\n",
              "      <td>2020-03-05</td>\n",
              "      <td>2</td>\n",
              "      <td>3</td>\n",
              "      <td>1</td>\n",
              "    </tr>\n",
              "    <tr>\n",
              "      <th>2</th>\n",
              "      <td>2020-03-08</td>\n",
              "      <td>3</td>\n",
              "      <td>6</td>\n",
              "      <td>2</td>\n",
              "    </tr>\n",
              "    <tr>\n",
              "      <th>3</th>\n",
              "      <td>2020-03-09</td>\n",
              "      <td>4</td>\n",
              "      <td>10</td>\n",
              "      <td>2</td>\n",
              "    </tr>\n",
              "    <tr>\n",
              "      <th>4</th>\n",
              "      <td>2020-03-10</td>\n",
              "      <td>3</td>\n",
              "      <td>13</td>\n",
              "      <td>2</td>\n",
              "    </tr>\n",
              "    <tr>\n",
              "      <th>...</th>\n",
              "      <td>...</td>\n",
              "      <td>...</td>\n",
              "      <td>...</td>\n",
              "      <td>...</td>\n",
              "    </tr>\n",
              "    <tr>\n",
              "      <th>673</th>\n",
              "      <td>2022-01-09</td>\n",
              "      <td>493</td>\n",
              "      <td>139030</td>\n",
              "      <td>112</td>\n",
              "    </tr>\n",
              "    <tr>\n",
              "      <th>674</th>\n",
              "      <td>2022-01-10</td>\n",
              "      <td>556</td>\n",
              "      <td>139586</td>\n",
              "      <td>112</td>\n",
              "    </tr>\n",
              "    <tr>\n",
              "      <th>675</th>\n",
              "      <td>2022-01-11</td>\n",
              "      <td>287</td>\n",
              "      <td>139873</td>\n",
              "      <td>112</td>\n",
              "    </tr>\n",
              "    <tr>\n",
              "      <th>676</th>\n",
              "      <td>2022-01-12</td>\n",
              "      <td>149</td>\n",
              "      <td>140022</td>\n",
              "      <td>112</td>\n",
              "    </tr>\n",
              "    <tr>\n",
              "      <th>677</th>\n",
              "      <td>2022-01-13</td>\n",
              "      <td>33</td>\n",
              "      <td>140055</td>\n",
              "      <td>112</td>\n",
              "    </tr>\n",
              "  </tbody>\n",
              "</table>\n",
              "<p>678 rows × 4 columns</p>\n",
              "</div>\n",
              "      <button class=\"colab-df-convert\" onclick=\"convertToInteractive('df-0ea3f7b4-a872-43e2-a437-ba7bf2356a14')\"\n",
              "              title=\"Convert this dataframe to an interactive table.\"\n",
              "              style=\"display:none;\">\n",
              "        \n",
              "  <svg xmlns=\"http://www.w3.org/2000/svg\" height=\"24px\"viewBox=\"0 0 24 24\"\n",
              "       width=\"24px\">\n",
              "    <path d=\"M0 0h24v24H0V0z\" fill=\"none\"/>\n",
              "    <path d=\"M18.56 5.44l.94 2.06.94-2.06 2.06-.94-2.06-.94-.94-2.06-.94 2.06-2.06.94zm-11 1L8.5 8.5l.94-2.06 2.06-.94-2.06-.94L8.5 2.5l-.94 2.06-2.06.94zm10 10l.94 2.06.94-2.06 2.06-.94-2.06-.94-.94-2.06-.94 2.06-2.06.94z\"/><path d=\"M17.41 7.96l-1.37-1.37c-.4-.4-.92-.59-1.43-.59-.52 0-1.04.2-1.43.59L10.3 9.45l-7.72 7.72c-.78.78-.78 2.05 0 2.83L4 21.41c.39.39.9.59 1.41.59.51 0 1.02-.2 1.41-.59l7.78-7.78 2.81-2.81c.8-.78.8-2.07 0-2.86zM5.41 20L4 18.59l7.72-7.72 1.47 1.35L5.41 20z\"/>\n",
              "  </svg>\n",
              "      </button>\n",
              "      \n",
              "  <style>\n",
              "    .colab-df-container {\n",
              "      display:flex;\n",
              "      flex-wrap:wrap;\n",
              "      gap: 12px;\n",
              "    }\n",
              "\n",
              "    .colab-df-convert {\n",
              "      background-color: #E8F0FE;\n",
              "      border: none;\n",
              "      border-radius: 50%;\n",
              "      cursor: pointer;\n",
              "      display: none;\n",
              "      fill: #1967D2;\n",
              "      height: 32px;\n",
              "      padding: 0 0 0 0;\n",
              "      width: 32px;\n",
              "    }\n",
              "\n",
              "    .colab-df-convert:hover {\n",
              "      background-color: #E2EBFA;\n",
              "      box-shadow: 0px 1px 2px rgba(60, 64, 67, 0.3), 0px 1px 3px 1px rgba(60, 64, 67, 0.15);\n",
              "      fill: #174EA6;\n",
              "    }\n",
              "\n",
              "    [theme=dark] .colab-df-convert {\n",
              "      background-color: #3B4455;\n",
              "      fill: #D2E3FC;\n",
              "    }\n",
              "\n",
              "    [theme=dark] .colab-df-convert:hover {\n",
              "      background-color: #434B5C;\n",
              "      box-shadow: 0px 1px 3px 1px rgba(0, 0, 0, 0.15);\n",
              "      filter: drop-shadow(0px 1px 2px rgba(0, 0, 0, 0.3));\n",
              "      fill: #FFFFFF;\n",
              "    }\n",
              "  </style>\n",
              "\n",
              "      <script>\n",
              "        const buttonEl =\n",
              "          document.querySelector('#df-0ea3f7b4-a872-43e2-a437-ba7bf2356a14 button.colab-df-convert');\n",
              "        buttonEl.style.display =\n",
              "          google.colab.kernel.accessAllowed ? 'block' : 'none';\n",
              "\n",
              "        async function convertToInteractive(key) {\n",
              "          const element = document.querySelector('#df-0ea3f7b4-a872-43e2-a437-ba7bf2356a14');\n",
              "          const dataTable =\n",
              "            await google.colab.kernel.invokeFunction('convertToInteractive',\n",
              "                                                     [key], {});\n",
              "          if (!dataTable) return;\n",
              "\n",
              "          const docLinkHtml = 'Like what you see? Visit the ' +\n",
              "            '<a target=\"_blank\" href=https://colab.research.google.com/notebooks/data_table.ipynb>data table notebook</a>'\n",
              "            + ' to learn more about interactive tables.';\n",
              "          element.innerHTML = '';\n",
              "          dataTable['output_type'] = 'display_data';\n",
              "          await google.colab.output.renderOutput(dataTable, element);\n",
              "          const docLink = document.createElement('div');\n",
              "          docLink.innerHTML = docLinkHtml;\n",
              "          element.appendChild(docLink);\n",
              "        }\n",
              "      </script>\n",
              "    </div>\n",
              "  </div>\n",
              "  "
            ]
          },
          "metadata": {},
          "execution_count": 65
        }
      ]
    },
    {
      "cell_type": "code",
      "source": [
        "Acumulado_Semana = np.array(Datos.iloc[:,[1,3]].groupby('Semana').sum())\n",
        "\n",
        "for i in range(1, len(Acumulado_Semana)):\n",
        "  Acumulado_Semana[i] = Acumulado_Semana[i-1] + Acumulado_Semana[i]\n",
        "\n",
        "Acumulado_Semana = Acumulado_Semana.T.reshape(112,)\n",
        "Semanas = np.array(Datos['Semana'].unique())\n",
        "\n",
        "Acumulado_Semana\n"
      ],
      "metadata": {
        "id": "mDwfKtdiXmMv",
        "colab": {
          "base_uri": "https://localhost:8080/"
        },
        "outputId": "6865973f-e987-4a82-a458-e68985b34c5c"
      },
      "execution_count": 106,
      "outputs": [
        {
          "output_type": "execute_result",
          "data": {
            "text/plain": [
              "array([     3,     17,     58,    138,    213,    359,    570,    916,\n",
              "         1325,   1506,   1998,   2843,   3895,   5022,   5726,   7197,\n",
              "         9192,  11729,  13700,  14556,  16420,  18614,  20948,  22900,\n",
              "        23771,  25229,  26613,  27965,  29059,  29638,  30512,  31428,\n",
              "        32349,  33111,  33428,  34187,  35152,  36207,  37195,  37697,\n",
              "        38670,  39866,  41192,  42641,  43390,  45001,  47116,  49616,\n",
              "        52148,  53923,  57481,  61545,  65368,  68393,  69712,  71884,\n",
              "        73910,  75884,  77701,  78005,  79510,  80894,  82366,  83546,\n",
              "        84101,  85013,  85979,  86767,  87403,  87647,  88056,  88454,\n",
              "        88823,  89128,  89273,  89527,  89844,  90220,  90713,  90983,\n",
              "        91746,  93075,  95162,  98082,  99929, 103640, 108413, 113026,\n",
              "       116611, 118668, 121603, 124240, 126665, 128439, 129077, 130103,\n",
              "       130959, 131647, 132067, 132234, 132504, 132766, 132995, 133159,\n",
              "       133258, 133397, 133574, 133837, 134395, 135048, 137559, 140055])"
            ]
          },
          "metadata": {},
          "execution_count": 106
        }
      ]
    },
    {
      "cell_type": "code",
      "source": [
        "g_Inicial, b_Inicial = 405.056999909218, 405.091000100108500178\n",
        "#Definición del modelo\n",
        "def SIR(y,t):\n",
        "\n",
        "\tbeta = b_Inicial\n",
        "\tgamma = g_Inicial\n",
        "\t\n",
        "\tS=y[0]\n",
        "\tI=y[1]\n",
        "\tA=y[2]\n",
        "\n",
        "\tN=S+I\n",
        "\t\n",
        "\tdS = -beta * S*I/N\n",
        "\tdI = beta * S*I/N - gamma*I\n",
        "\t#dR = gamma*I\n",
        "\tdA = beta * S*I/N\n",
        "\n",
        "\treturn np.array([dS,dI,dA])\n",
        "\n",
        "sol = odeint(SIR, [142000,1,1], Semanas)\n",
        "\n",
        "#plt.plot(Semanas,sol[:,0])\n",
        "#plt.plot(Semanas,sol[:,1])\n",
        "plt.plot(Semanas,sol[:,2])\n",
        "plt.plot(Semanas,Acumulado_Semana)\n",
        "plt.show()\n",
        "\n",
        "len(Acumulado_Semana)\n",
        " "
      ],
      "metadata": {
        "id": "A67onoXfY8OI",
        "colab": {
          "base_uri": "https://localhost:8080/",
          "height": 448
        },
        "outputId": "d04f61b6-8294-4330-899b-2797f632932d"
      },
      "execution_count": 265,
      "outputs": [
        {
          "output_type": "display_data",
          "data": {
            "text/plain": [
              "<Figure size 640x480 with 1 Axes>"
            ],
            "image/png": "[encoded data removed]"
          },
          "metadata": {}
        },
        {
          "output_type": "execute_result",
          "data": {
            "text/plain": [
              "112"
            ]
          },
          "metadata": {},
          "execution_count": 265
        }
      ]
    },
    {
      "cell_type": "markdown",
      "source": [
        "# ***Primera ola: Mínimos y odeint***"
      ],
      "metadata": {
        "id": "SmtzOFo3D7Ga"
      }
    },
    {
      "cell_type": "code",
      "source": [
        "def Fun(t,gamma,beta):\n",
        "\n",
        "  #Definición del modelo\n",
        "  def SIR_Mod(y,t):\n",
        "    S=y[0]\n",
        "    I=y[1]\n",
        "    A=y[2]\n",
        "\n",
        "    N=S+I\n",
        "    \n",
        "    dS = -beta * S*I/N\n",
        "    dI = beta * S*I/N - gamma*I\n",
        "    #dR = gamma*I\n",
        "    dA = beta * S*I/N\n",
        "\n",
        "    return np.array([dS,dI,dA])\n",
        "\n",
        "  Sol_Mod = odeint(SIR_Mod,[142000,1,1],t)\n",
        "\n",
        "  return Sol_Mod[:,2]\n",
        "\n",
        "  #Parámteros Gama y Beta iniciales\n",
        "#g_Inicial, b_Inicial = 0.4, 0.2\n",
        "\n",
        "#Solución del sistema usando odeint\n",
        "Parametros_Aprox, cov = optimize.curve_fit(Fun, Semanas, Acumulado_Semana)\n",
        "print(Parametros_Aprox)\n",
        "gamma_Aprox, beta_Aprox = Parametros_Aprox\n"
      ],
      "metadata": {
        "colab": {
          "base_uri": "https://localhost:8080/"
        },
        "id": "CmajagD-KJBx",
        "outputId": "40d0f843-9fe4-46ad-cb63-e43b15ccf8d4"
      },
      "execution_count": 266,
      "outputs": [
        {
          "output_type": "stream",
          "name": "stdout",
          "text": [
            "[-0.53341539  0.02216095]\n"
          ]
        },
        {
          "output_type": "stream",
          "name": "stderr",
          "text": [
            "<ipython-input-266-4f437a7bd8b7>:12: RuntimeWarning: overflow encountered in double_scalars\n",
            "  dI = beta * S*I/N - gamma*I\n",
            "<ipython-input-266-4f437a7bd8b7>:11: RuntimeWarning: invalid value encountered in double_scalars\n",
            "  dS = -beta * S*I/N\n",
            "<ipython-input-266-4f437a7bd8b7>:12: RuntimeWarning: invalid value encountered in double_scalars\n",
            "  dI = beta * S*I/N - gamma*I\n",
            "<ipython-input-266-4f437a7bd8b7>:14: RuntimeWarning: invalid value encountered in double_scalars\n",
            "  dA = beta * S*I/N\n"
          ]
        }
      ]
    },
    {
      "cell_type": "code",
      "source": [
        "gamma_Aprox, beta_Aprox = Parametros_Aprox\n",
        "\n",
        "#Definición del modelo\n",
        "def SIRModel_fitted(y,t):\n",
        "\t\n",
        "\tS=y[0]\n",
        "\tI=y[1]\n",
        "\tA=y[2]\n",
        "\n",
        "\tN=S+I\n",
        "\t\n",
        "\tdS = -beta_Aprox * S*I/N\n",
        "\tdI = beta_Aprox * S*I/N - gamma_Aprox*I\n",
        "\t#dR = gamma*I\n",
        "\tdA = beta_Aprox * S*I/N\n",
        "\n",
        "\treturn np.array([dS,dI,dA])\n",
        "\n",
        "Sol = odeint(SIRModel_fitted,[142000,2,2], Semanas)\n",
        "\n",
        "plt.plot(Semanas, sol[:,2])\n",
        "plt.plot(Semanas, Acumulado_Semana)\n",
        "plt.show()\n"
      ],
      "metadata": {
        "colab": {
          "base_uri": "https://localhost:8080/",
          "height": 430
        },
        "id": "dU-e9lblUZq5",
        "outputId": "61242e5d-add2-4c1d-bdab-6d6858ee9260"
      },
      "execution_count": 267,
      "outputs": [
        {
          "output_type": "display_data",
          "data": {
            "text/plain": [
              "<Figure size 640x480 with 1 Axes>"
            ],
            "image/png": "[encoded data removed]"
          },
          "metadata": {}
        }
      ]
    },
    {
      "cell_type": "code",
      "source": [
        "#plt.plot(Semanas,sol[:,0])\n",
        "#plt.plot(Semanas,sol[:,1])\n",
        "plt.plot(Semanas,sol[:,2])\n",
        "plt.plot(Semanas,Acumulado_Semana)\n",
        "plt.show()"
      ],
      "metadata": {
        "colab": {
          "base_uri": "https://localhost:8080/",
          "height": 430
        },
        "id": "9jfL_kfBYLFd",
        "outputId": "b29cd7f8-b453-409c-8b2f-7f43934800c3"
      },
      "execution_count": 269,
      "outputs": [
        {
          "output_type": "display_data",
          "data": {
            "text/plain": [
              "<Figure size 640x480 with 1 Axes>"
            ],
            "image/png": "[encoded data removed]"
          },
          "metadata": {}
        }
      ]
    },
    {
      "cell_type": "markdown",
      "source": [
        "# ***Segunda ola: Monte Carlo***"
      ],
      "metadata": {
        "id": "3g4Yu7GKEC2a"
      }
    },
    {
      "cell_type": "code",
      "source": [],
      "metadata": {
        "id": "LDMU_AsmEICA"
      },
      "execution_count": null,
      "outputs": []
    }
  ]
}